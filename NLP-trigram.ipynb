{
 "cells": [
  {
   "cell_type": "code",
   "execution_count": 2,
   "id": "97fc86b5-6c14-4997-9e3d-a8503d3e9b2a",
   "metadata": {},
   "outputs": [
    {
     "name": "stderr",
     "output_type": "stream",
     "text": [
      "[nltk_data] Downloading package brown to /Users/abhivyas/nltk_data...\n",
      "[nltk_data]   Package brown is already up-to-date!\n",
      "[nltk_data] Downloading package punkt to /Users/abhivyas/nltk_data...\n",
      "[nltk_data]   Package punkt is already up-to-date!\n"
     ]
    }
   ],
   "source": [
    "# Step 1: Install and import NLTK\n",
    "import nltk\n",
    "nltk.download('brown')\n",
    "nltk.download('punkt')\n",
    "from nltk.corpus import brown\n",
    "from nltk import trigrams\n",
    "import random"
   ]
  },
  {
   "cell_type": "code",
   "execution_count": 3,
   "id": "710ebec1-4cae-4c70-b523-fc4179009a92",
   "metadata": {},
   "outputs": [],
   "source": [
    "# Step 2: Load the Brown Corpus\n",
    "words = brown.words(categories='news')\n",
    "words = [w.lower() for w in words]"
   ]
  },
  {
   "cell_type": "code",
   "execution_count": 4,
   "id": "893a62b9-5feb-4c64-93a4-86804f10cf67",
   "metadata": {},
   "outputs": [
    {
     "name": "stdout",
     "output_type": "stream",
     "text": [
      "Generated Text:\n",
      "\n",
      "was driving struck a cab driver in the box score , a prominent corporation lawyer with a rare complete set\n"
     ]
    }
   ],
   "source": [
    "# Step 3: Build the trigram model\n",
    "# A trigram = (word1, word2, word3)\n",
    "model = {}\n",
    "for w1, w2, w3 in trigrams(words, pad_right=True, pad_left=True):\n",
    "    key = (w1, w2)\n",
    "    if key not in model:\n",
    "        model[key] = []\n",
    "    model[key].append(w3)\n",
    "# Step 4: Generate random text\n",
    "text = []\n",
    "sentence_length = 20   # words per sentence\n",
    "# choose a random starting bigram (two words)\n",
    "w1, w2 = random.choice(list(model.keys()))\n",
    "for i in range(sentence_length):\n",
    "    text.append(w1)\n",
    "    next_words = model.get((w1, w2), None)\n",
    "    if not next_words:\n",
    "        break\n",
    "    w1, w2 = w2, random.choice(next_words)\n",
    "# Step 5: Print generated text\n",
    "print(\"Generated Text:\\n\")\n",
    "print(' '.join(text))"
   ]
  },
  {
   "cell_type": "code",
   "execution_count": null,
   "id": "5112e7d8-392d-41db-8735-cedfd897505d",
   "metadata": {},
   "outputs": [],
   "source": []
  },
  {
   "cell_type": "code",
   "execution_count": 5,
   "id": "3a0ffe7d-ce11-4aa7-bcdb-3eab0847bdd8",
   "metadata": {},
   "outputs": [],
   "source": [
    "# VAE"
   ]
  },
  {
   "cell_type": "code",
   "execution_count": null,
   "id": "cb77d61f-0bc0-4305-a847-5d18499d3fd5",
   "metadata": {},
   "outputs": [],
   "source": [
    "import numpy as np\n",
    "import tensorflow as tf\n",
    "import matplotlib.pyplot as plt\n",
    "\n",
    "pri"
   ]
  }
 ],
 "metadata": {
  "kernelspec": {
   "display_name": "Python [conda env:base] *",
   "language": "python",
   "name": "conda-base-py"
  },
  "language_info": {
   "codemirror_mode": {
    "name": "ipython",
    "version": 3
   },
   "file_extension": ".py",
   "mimetype": "text/x-python",
   "name": "python",
   "nbconvert_exporter": "python",
   "pygments_lexer": "ipython3",
   "version": "3.13.5"
  }
 },
 "nbformat": 4,
 "nbformat_minor": 5
}
